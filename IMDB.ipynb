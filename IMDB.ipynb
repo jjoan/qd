{
 "cells": [
  {
   "cell_type": "code",
   "execution_count": 1,
   "metadata": {
    "collapsed": false
   },
   "outputs": [
    {
     "name": "stderr",
     "output_type": "stream",
     "text": [
      "Using TensorFlow backend.\n"
     ]
    }
   ],
   "source": [
    "import numpy\n",
    "from keras.datasets import imdb\n",
    "from keras.models import Sequential\n",
    "from keras.layers import Dense\n",
    "from keras.layers import LSTM\n",
    "from keras.layers.embeddings import Embedding\n",
    "from keras.preprocessing import sequence\n",
    "# fix random seed for reproducibility\n",
    "numpy.random.seed(7)"
   ]
  },
  {
   "cell_type": "code",
   "execution_count": 2,
   "metadata": {
    "collapsed": false
   },
   "outputs": [],
   "source": [
    "X_train=numpy.load('/home/julian/Downloads/imdb.npz_FILES/x_train.npy')\n",
    "y_train=numpy.load('/home/julian/Downloads/imdb.npz_FILES/y_train.npy')\n",
    "X_test=numpy.load('/home/julian/Downloads/imdb.npz_FILES/x_test.npy')\n",
    "y_test=numpy.load('/home/julian/Downloads/imdb.npz_FILES/y_test.npy')"
   ]
  },
  {
   "cell_type": "code",
   "execution_count": 3,
   "metadata": {
    "collapsed": false
   },
   "outputs": [],
   "source": [
    "top_words = 100000\n",
    "X_train=X_train[0:2000]\n",
    "y_train=y_train[0:2000]\n",
    "X_test=X_test[0:2000]\n",
    "y_test=y_test[0:2000]"
   ]
  },
  {
   "cell_type": "code",
   "execution_count": 4,
   "metadata": {
    "collapsed": false
   },
   "outputs": [
    {
     "name": "stdout",
     "output_type": "stream",
     "text": [
      "(2000,)\n"
     ]
    }
   ],
   "source": [
    "print(y_train.shape)"
   ]
  },
  {
   "cell_type": "code",
   "execution_count": 8,
   "metadata": {
    "collapsed": false
   },
   "outputs": [],
   "source": [
    "# truncate and pad input sequences\n",
    "max_review_length = 500\n",
    "X_train = sequence.pad_sequences(X_train, maxlen=max_review_length)\n",
    "X_test = sequence.pad_sequences(X_test, maxlen=max_review_length)"
   ]
  },
  {
   "cell_type": "code",
   "execution_count": 11,
   "metadata": {
    "collapsed": false
   },
   "outputs": [
    {
     "name": "stdout",
     "output_type": "stream",
     "text": [
      "(2000, 500)\n",
      "(2000, 500)\n",
      "(2000,)\n",
      "(2000,)\n"
     ]
    }
   ],
   "source": [
    "print(X_train.shape)\n",
    "print(X_test.shape)\n",
    "print(y_train.shape)\n",
    "print(y_test.shape)"
   ]
  },
  {
   "cell_type": "code",
   "execution_count": 43,
   "metadata": {
    "collapsed": false
   },
   "outputs": [
    {
     "name": "stdout",
     "output_type": "stream",
     "text": [
      "_________________________________________________________________\n",
      "Layer (type)                 Output Shape              Param #   \n",
      "=================================================================\n",
      "embedding_16 (Embedding)     (None, 500, 32)           3200000   \n",
      "_________________________________________________________________\n",
      "lstm_16 (LSTM)               (None, 100)               53200     \n",
      "_________________________________________________________________\n",
      "dense_13 (Dense)             (None, 1)                 101       \n",
      "=================================================================\n",
      "Total params: 3,253,301\n",
      "Trainable params: 3,253,301\n",
      "Non-trainable params: 0\n",
      "_________________________________________________________________\n",
      "None\n",
      "Train on 2000 samples, validate on 2000 samples\n",
      "Epoch 1/2\n",
      "2000/2000 [==============================] - 274s - loss: 0.2456 - acc: 0.9850 - val_loss: 6.7181e-05 - val_acc: 1.0000\n",
      "Epoch 2/2\n",
      "2000/2000 [==============================] - 342s - loss: 3.8504e-05 - acc: 1.0000 - val_loss: 2.6356e-05 - val_acc: 1.0000\n"
     ]
    },
    {
     "data": {
      "text/plain": [
       "<keras.callbacks.History at 0x7fc354d98710>"
      ]
     },
     "execution_count": 43,
     "metadata": {},
     "output_type": "execute_result"
    }
   ],
   "source": [
    "# create the model\n",
    "embedding_vecor_length = 32\n",
    "model = Sequential()\n",
    "model.add(Embedding(top_words, embedding_vecor_length, input_length=max_review_length))\n",
    "model.add(LSTM(100))\n",
    "model.add(Dense(1, activation='sigmoid'))\n",
    "model.compile(loss='binary_crossentropy', optimizer='adam', metrics=['accuracy'])\n",
    "print(model.summary())\n",
    "model.fit(X_train, y_train, validation_data=(X_test, y_test),epochs=2,batch_size=64)"
   ]
  },
  {
   "cell_type": "code",
   "execution_count": 44,
   "metadata": {
    "collapsed": true
   },
   "outputs": [],
   "source": [
    "score = model.evaluate(X_test,y_test,verbose=0)\n"
   ]
  },
  {
   "cell_type": "code",
   "execution_count": 47,
   "metadata": {
    "collapsed": false
   },
   "outputs": [
    {
     "data": {
      "text/plain": [
       "[2.6356030502938665e-05, 1.0]"
      ]
     },
     "execution_count": 47,
     "metadata": {},
     "output_type": "execute_result"
    }
   ],
   "source": [
    "score"
   ]
  },
  {
   "cell_type": "code",
   "execution_count": 49,
   "metadata": {
    "collapsed": false
   },
   "outputs": [],
   "source": [
    "y_pred=model.predict(X_test,batch_size=64,verbose=0)"
   ]
  },
  {
   "cell_type": "code",
   "execution_count": 67,
   "metadata": {
    "collapsed": false
   },
   "outputs": [
    {
     "name": "stdout",
     "output_type": "stream",
     "text": [
      "('predicted', '     ', 'actual')\n",
      "(array([ 0.99997354], dtype=float32), 1)\n",
      "(array([ 0.99997413], dtype=float32), 1)\n",
      "(array([ 0.9999733], dtype=float32), 1)\n",
      "(array([ 0.99997389], dtype=float32), 1)\n",
      "(array([ 0.99997413], dtype=float32), 1)\n",
      "(array([ 0.99997389], dtype=float32), 1)\n",
      "(array([ 0.9999733], dtype=float32), 1)\n",
      "(array([ 0.99997377], dtype=float32), 1)\n",
      "(array([ 0.99997354], dtype=float32), 1)\n",
      "(array([ 0.99997294], dtype=float32), 1)\n",
      "(array([ 0.99997401], dtype=float32), 1)\n",
      "(array([ 0.99997306], dtype=float32), 1)\n",
      "(array([ 0.99997354], dtype=float32), 1)\n",
      "(array([ 0.99997425], dtype=float32), 1)\n",
      "(array([ 0.99997318], dtype=float32), 1)\n",
      "(array([ 0.99997342], dtype=float32), 1)\n",
      "(array([ 0.99997389], dtype=float32), 1)\n",
      "(array([ 0.9999733], dtype=float32), 1)\n",
      "(array([ 0.99997401], dtype=float32), 1)\n",
      "(array([ 0.99997389], dtype=float32), 1)\n",
      "(array([ 0.99997413], dtype=float32), 1)\n",
      "(array([ 0.99997318], dtype=float32), 1)\n",
      "(array([ 0.99997365], dtype=float32), 1)\n",
      "(array([ 0.9999733], dtype=float32), 1)\n",
      "(array([ 0.99997342], dtype=float32), 1)\n",
      "(array([ 0.99997389], dtype=float32), 1)\n",
      "(array([ 0.99997342], dtype=float32), 1)\n",
      "(array([ 0.99997389], dtype=float32), 1)\n",
      "(array([ 0.99997306], dtype=float32), 1)\n",
      "(array([ 0.9999727], dtype=float32), 1)\n",
      "(array([ 0.99997401], dtype=float32), 1)\n",
      "(array([ 0.99997365], dtype=float32), 1)\n",
      "(array([ 0.99997401], dtype=float32), 1)\n",
      "(array([ 0.99997306], dtype=float32), 1)\n",
      "(array([ 0.99997389], dtype=float32), 1)\n",
      "(array([ 0.99997306], dtype=float32), 1)\n",
      "(array([ 0.99997318], dtype=float32), 1)\n",
      "(array([ 0.99997294], dtype=float32), 1)\n",
      "(array([ 0.99997318], dtype=float32), 1)\n",
      "(array([ 0.99997389], dtype=float32), 1)\n",
      "(array([ 0.99997342], dtype=float32), 1)\n",
      "(array([ 0.99997377], dtype=float32), 1)\n",
      "(array([ 0.99997306], dtype=float32), 1)\n",
      "(array([ 0.99997413], dtype=float32), 1)\n",
      "(array([ 0.99997413], dtype=float32), 1)\n",
      "(array([ 0.99997425], dtype=float32), 1)\n",
      "(array([ 0.9999733], dtype=float32), 1)\n",
      "(array([ 0.99997342], dtype=float32), 1)\n",
      "(array([ 0.99997365], dtype=float32), 1)\n",
      "(array([ 0.99997449], dtype=float32), 1)\n",
      "(array([ 0.99997401], dtype=float32), 1)\n",
      "(array([ 0.99997342], dtype=float32), 1)\n",
      "(array([ 0.99997413], dtype=float32), 1)\n",
      "(array([ 0.99997401], dtype=float32), 1)\n",
      "(array([ 0.99997377], dtype=float32), 1)\n",
      "(array([ 0.99997389], dtype=float32), 1)\n",
      "(array([ 0.99997401], dtype=float32), 1)\n",
      "(array([ 0.99997413], dtype=float32), 1)\n",
      "(array([ 0.99997401], dtype=float32), 1)\n",
      "(array([ 0.99997389], dtype=float32), 1)\n",
      "(array([ 0.99997294], dtype=float32), 1)\n",
      "(array([ 0.99997342], dtype=float32), 1)\n",
      "(array([ 0.99997342], dtype=float32), 1)\n",
      "(array([ 0.99997401], dtype=float32), 1)\n",
      "(array([ 0.99997342], dtype=float32), 1)\n",
      "(array([ 0.99997306], dtype=float32), 1)\n",
      "(array([ 0.9999733], dtype=float32), 1)\n",
      "(array([ 0.99997389], dtype=float32), 1)\n",
      "(array([ 0.99997306], dtype=float32), 1)\n",
      "(array([ 0.99997365], dtype=float32), 1)\n",
      "(array([ 0.9999733], dtype=float32), 1)\n",
      "(array([ 0.99997413], dtype=float32), 1)\n",
      "(array([ 0.99997401], dtype=float32), 1)\n",
      "(array([ 0.99997401], dtype=float32), 1)\n",
      "(array([ 0.99997318], dtype=float32), 1)\n",
      "(array([ 0.99997377], dtype=float32), 1)\n",
      "(array([ 0.99997377], dtype=float32), 1)\n",
      "(array([ 0.99997449], dtype=float32), 1)\n",
      "(array([ 0.99997389], dtype=float32), 1)\n",
      "(array([ 0.99997354], dtype=float32), 1)\n",
      "(array([ 0.99997365], dtype=float32), 1)\n",
      "(array([ 0.99997342], dtype=float32), 1)\n",
      "(array([ 0.99997365], dtype=float32), 1)\n",
      "(array([ 0.99997401], dtype=float32), 1)\n",
      "(array([ 0.99997354], dtype=float32), 1)\n",
      "(array([ 0.99997389], dtype=float32), 1)\n",
      "(array([ 0.99997413], dtype=float32), 1)\n",
      "(array([ 0.9999733], dtype=float32), 1)\n",
      "(array([ 0.99997377], dtype=float32), 1)\n",
      "(array([ 0.99997389], dtype=float32), 1)\n",
      "(array([ 0.99997401], dtype=float32), 1)\n",
      "(array([ 0.99997342], dtype=float32), 1)\n",
      "(array([ 0.9999733], dtype=float32), 1)\n",
      "(array([ 0.99997413], dtype=float32), 1)\n",
      "(array([ 0.99997377], dtype=float32), 1)\n",
      "(array([ 0.9999733], dtype=float32), 1)\n",
      "(array([ 0.99997413], dtype=float32), 1)\n",
      "(array([ 0.99997354], dtype=float32), 1)\n",
      "(array([ 0.99997413], dtype=float32), 1)\n",
      "(array([ 0.99997354], dtype=float32), 1)\n"
     ]
    }
   ],
   "source": [
    "print('predicted', '     ' , 'actual')\n",
    "for i in range(100):\n",
    "    print(y_pred[i],y_test[i])"
   ]
  }
 ],
 "metadata": {
  "anaconda-cloud": {},
  "kernelspec": {
   "display_name": "Python [default]",
   "language": "python",
   "name": "python2"
  },
  "language_info": {
   "codemirror_mode": {
    "name": "ipython",
    "version": 2
   },
   "file_extension": ".py",
   "mimetype": "text/x-python",
   "name": "python",
   "nbconvert_exporter": "python",
   "pygments_lexer": "ipython2",
   "version": "2.7.12"
  }
 },
 "nbformat": 4,
 "nbformat_minor": 1
}
