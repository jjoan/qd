{
 "cells": [
  {
   "cell_type": "code",
   "execution_count": 2,
   "metadata": {
    "collapsed": false
   },
   "outputs": [],
   "source": [
    "import numpy as np\n",
    "from numpy import arange\n",
    "import pandas as pd\n",
    "import random\n",
    "from sklearn.datasets import load_iris\n",
    "import math\n",
    "import matplotlib.pyplot as plt\n",
    "from pylab import plot, show, xlabel, ylabel"
   ]
  },
  {
   "cell_type": "code",
   "execution_count": 3,
   "metadata": {
    "collapsed": false
   },
   "outputs": [
    {
     "name": "stdout",
     "output_type": "stream",
     "text": [
      "100\n",
      "5\n"
     ]
    }
   ],
   "source": [
    "x=load_iris()\n",
    "#pd.DataFrame(X.data)\n",
    "y=x['target']\n",
    "#pd.DtaFrame(y)\n",
    "x=x.data[0:100,]\n",
    "y=y[0:100,]\n",
    "x=np.append(np.ones((x.data.shape[0],1)),x.data,1)\n",
    "y=np.reshape(y,(-1,1))\n",
    "m=x.shape[0]\n",
    "n=x.shape[1]\n",
    "print(m)\n",
    "print(n)"
   ]
  },
  {
   "cell_type": "code",
   "execution_count": 4,
   "metadata": {
    "collapsed": false
   },
   "outputs": [
    {
     "name": "stdout",
     "output_type": "stream",
     "text": [
      "(100, 5) (100, 1)\n",
      "(60, 5) (60, 1)\n",
      "(20, 5) (20, 1)\n",
      "(20, 5) (20, 1)\n"
     ]
    }
   ],
   "source": [
    "#divide data into train,validate and test as 60%,20%,20%\n",
    "\n",
    "train_start = 0\n",
    "train_end = int(.6*m)\n",
    "validation_start = int(.6*m)\n",
    "validation_end = int(.8*m)\n",
    "test_start = int(.8*m)\n",
    "test_end = m\n",
    "\n",
    "x_train = x[train_start:train_end,]\n",
    "y_train = y[train_start:train_end,]\n",
    "\n",
    "x_validate = x[validation_start:validation_end,]\n",
    "y_validate = y[validation_start:validation_end,]\n",
    "\n",
    "x_test = x[test_start:test_end,]\n",
    "y_test = y[test_start:test_end,]\n",
    "\n",
    "print (x.shape,y.shape)\n",
    "print (x_train.shape,y_train.shape)\n",
    "print (x_validate.shape,y_validate.shape)\n",
    "print (x_test.shape,y_test.shape)\n",
    "\n",
    "assert x_train.shape[0]+x_validate.shape[0]+x_test.shape[0] == x.shape[0]\n",
    "assert y_train.shape[0]+y_validate.shape[0]+y_test.shape[0] == y.shape[0]"
   ]
  },
  {
   "cell_type": "code",
   "execution_count": 5,
   "metadata": {
    "collapsed": false
   },
   "outputs": [],
   "source": [
    "#X dim: m+1*(n+1) where n = no. of fetaures\n",
    "#y dim: m*1\n",
    "#theta dim: (n+1)*1\n",
    "def gradientDescent(X,y,theta,m,alpha,numIter):\n",
    "    X_transpose = X.transpose()\n",
    "    prevcost = 1e8\n",
    "    c=[]\n",
    "    for i in range(numIter):\n",
    "        c.append(0)\n",
    "    for i in range(numIter):\n",
    "        z=-1*np.dot(X,theta)\n",
    "        hypothesis = 1/(1+np.exp(z))\n",
    "        '''\n",
    "        cost=[]\n",
    "        cost1=[]\n",
    "        cost2=[]\n",
    "        for j in range(m):\n",
    "            cost1.append(0)\n",
    "            cost2.append(0)\n",
    "            cost.append(0)\n",
    "        '''\n",
    "        cost=[]\n",
    "        loss = hypothesis-y\n",
    "        for j in range(m):\n",
    "            cost.append(-1*y[j]*math.log(hypothesis[j])+(1-y[j])*math.log(1/(1-hypothesis[j])))\n",
    "            #cost1[j] = -1*y[j]*math.log(hypothesis[j])\n",
    "            #cost2[j] = (1-y[j])*math.log(1/(1-hypothesis[j]))\n",
    "            #cost[j]  =  cost1[j] + cost2[j]\n",
    "        cost = np.sum(cost)/(m)\n",
    "        if cost > prevcost:\n",
    "            \"error!! not converging\"\n",
    "            break\n",
    "        gradient = np.dot(X_transpose,loss)/m\n",
    "        theta = theta - alpha*gradient\n",
    "        prevcost = cost\n",
    "        c[i]=cost\n",
    "        if i == numIter-1:\n",
    "            print(\"Loss: \",cost)\n",
    "    plot(arange(numIter),c)\n",
    "    xlabel('Iterations')\n",
    "    ylabel('Cost Function')\n",
    "    show()\n",
    "    return theta"
   ]
  },
  {
   "cell_type": "code",
   "execution_count": 16,
   "metadata": {
    "collapsed": false
   },
   "outputs": [
    {
     "name": "stdout",
     "output_type": "stream",
     "text": [
      "Loss:  0.0555623688402\n"
     ]
    },
    {
     "data": {
      "image/png": "[encoded data removed]",
      "text/plain": [
       "<matplotlib.figure.Figure at 0xa82d162c>"
      ]
     },
     "metadata": {},
     "output_type": "display_data"
    },
    {
     "name": "stdout",
     "output_type": "stream",
     "text": [
      "theta values\n",
      "[[ 0.54625308]\n",
      " [-0.78868888]\n",
      " [-0.72088002]\n",
      " [ 1.4644579 ]\n",
      " [ 1.32723175]]\n"
     ]
    }
   ],
   "source": [
    "#initialize theta\n",
    "theta = np.ones((n,1))\n",
    "theta = gradientDescent(x_train,y_train,theta,x_train.shape[0],0.05,200)\n",
    "print(\"theta values\")\n",
    "print(theta)"
   ]
  },
  {
   "cell_type": "code",
   "execution_count": 17,
   "metadata": {
    "collapsed": false
   },
   "outputs": [],
   "source": [
    "def predict(X,theta):\n",
    "    return np.dot(X,theta)"
   ]
  },
  {
   "cell_type": "code",
   "execution_count": 28,
   "metadata": {
    "collapsed": true
   },
   "outputs": [],
   "source": [
    "#R^2 function\n",
    "def score(x,y,theta):\n",
    "    y_pred = predict(x,theta)\n",
    "    #print(y_pred)\n",
    "    for i in range(y.shape[0]):\n",
    "        if(y_pred[i]>0.5):\n",
    "            y_pred[i]=1\n",
    "        else:\n",
    "            y_pred[i]=0\n",
    "        print(y_pred[i])\n",
    "    y_true = y\n",
    "    #print(\"error\")\n",
    "    return np.sum((y_pred-np.mean(y_true))**2)"
   ]
  },
  {
   "cell_type": "code",
   "execution_count": 29,
   "metadata": {
    "collapsed": false
   },
   "outputs": [
    {
     "name": "stdout",
     "output_type": "stream",
     "text": [
      "[ 1.]\n",
      "[ 0.]\n",
      "[ 1.]\n",
      "[ 1.]\n",
      "[ 1.]\n",
      "[ 1.]\n",
      "[ 1.]\n",
      "[ 1.]\n",
      "[ 1.]\n",
      "[ 1.]\n",
      "[ 1.]\n",
      "[ 1.]\n",
      "[ 1.]\n",
      "[ 0.]\n",
      "[ 1.]\n",
      "[ 1.]\n",
      "[ 1.]\n",
      "[ 1.]\n",
      "[ 0.]\n",
      "[ 1.]\n",
      "3.0\n"
     ]
    }
   ],
   "source": [
    "\n",
    "print(score(x_test,y_test,theta))"
   ]
  },
  {
   "cell_type": "code",
   "execution_count": 13,
   "metadata": {
    "collapsed": true
   },
   "outputs": [],
   "source": [
    "from sklearn.linear_model import LogisticRegression"
   ]
  },
  {
   "cell_type": "code",
   "execution_count": 42,
   "metadata": {
    "collapsed": false
   },
   "outputs": [
    {
     "name": "stderr",
     "output_type": "stream",
     "text": [
      "/home/julian/anaconda3/lib/python3.5/site-packages/sklearn/utils/validation.py:515: DataConversionWarning: A column-vector y was passed when a 1d array was expected. Please change the shape of y to (n_samples, ), for example using ravel().\n",
      "  y = column_or_1d(y, warn=True)\n"
     ]
    },
    {
     "data": {
      "text/plain": [
       "LogisticRegression(C=1.0, class_weight=None, dual=False, fit_intercept=True,\n",
       "          intercept_scaling=1, max_iter=100, multi_class='ovr', n_jobs=1,\n",
       "          penalty='l2', random_state=None, solver='liblinear', tol=0.0001,\n",
       "          verbose=0, warm_start=False)"
      ]
     },
     "execution_count": 42,
     "metadata": {},
     "output_type": "execute_result"
    }
   ],
   "source": [
    "alg = LogisticRegression()\n",
    "alg.fit(x_train,y_train)"
   ]
  },
  {
   "cell_type": "code",
   "execution_count": 43,
   "metadata": {
    "collapsed": false
   },
   "outputs": [
    {
     "name": "stdout",
     "output_type": "stream",
     "text": [
      "1.0\n",
      "[[-0.25633771 -0.43647675 -1.21492493  1.83709384  0.82386238]]\n"
     ]
    }
   ],
   "source": [
    "y_pred = alg.predict(x_test)\n",
    "print(alg.score(x_test,y_test))\n",
    "print(alg.coef_)"
   ]
  },
  {
   "cell_type": "code",
   "execution_count": null,
   "metadata": {
    "collapsed": true
   },
   "outputs": [],
   "source": []
  }
 ],
 "metadata": {
  "anaconda-cloud": {},
  "kernelspec": {
   "display_name": "Python [default]",
   "language": "python",
   "name": "python2"
  },
  "language_info": {
   "codemirror_mode": {
    "name": "ipython",
    "version": 2
   },
   "file_extension": ".py",
   "mimetype": "text/x-python",
   "name": "python",
   "nbconvert_exporter": "python",
   "pygments_lexer": "ipython2",
   "version": "2.7.12"
  }
 },
 "nbformat": 4,
 "nbformat_minor": 1
}
