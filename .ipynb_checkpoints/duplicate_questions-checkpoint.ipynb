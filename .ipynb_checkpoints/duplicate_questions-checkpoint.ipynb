{
 "cells": [
  {
   "cell_type": "code",
   "execution_count": 1,
   "metadata": {
    "collapsed": true
   },
   "outputs": [],
   "source": [
    "import numpy as np\n",
    "import pandas as pd\n",
    "from tqdm import tqdm\n",
    "import sys\n",
    "import os"
   ]
  },
  {
   "cell_type": "code",
   "execution_count": 3,
   "metadata": {
    "collapsed": false,
    "scrolled": true
   },
   "outputs": [
    {
     "name": "stdout",
     "output_type": "stream",
     "text": [
      "['id' 'qid1' 'qid2' 'question1' 'question2' 'is_duplicate']\n",
      "(404290, 6)\n"
     ]
    }
   ],
   "source": [
    "#load data\n",
    "df = pd.read_csv(\"/home/julian/Project/code/quora_duplicate_questions.tsv\",delimiter='\\t')\n",
    "\n",
    "names=df.columns.values\n",
    "print(names)\n",
    "print(df.shape)"
   ]
  },
  {
   "cell_type": "code",
   "execution_count": 4,
   "metadata": {
    "collapsed": false
   },
   "outputs": [],
   "source": [
    "#training for embedding\n",
    "import gensim\n"
   ]
  },
  {
   "cell_type": "code",
   "execution_count": 5,
   "metadata": {
    "collapsed": false
   },
   "outputs": [],
   "source": [
    "df['question1'] = df['question1'].apply(lambda x: unicode(str(x),\"utf-8\"))\n",
    "df['question2'] = df['question2'].apply(lambda x: unicode(str(x),\"utf-8\"))\n"
   ]
  },
  {
   "cell_type": "code",
   "execution_count": null,
   "metadata": {
    "collapsed": false
   },
   "outputs": [
    {
     "name": "stderr",
     "output_type": "stream",
     "text": [
      " 10%|▉         | 80738/808580 [00:50<07:37, 1590.94it/s]"
     ]
    }
   ],
   "source": [
    "\n",
    "questions=list(df['question1'])+list(df['question2'])\n",
    "c=0\n",
    "for i in tqdm(questions):\n",
    "    questions[c]=list(gensim.utils.tokenize(i,deacc=True,lower=True))\n",
    "    c+=1"
   ]
  },
  {
   "cell_type": "code",
   "execution_count": 7,
   "metadata": {
    "collapsed": false
   },
   "outputs": [],
   "source": [
    "from gensim.models import Word2Vec\n",
    "model=Word2Vec(questions,size=10,min_count=1)"
   ]
  },
  {
   "cell_type": "code",
   "execution_count": 8,
   "metadata": {
    "collapsed": false
   },
   "outputs": [
    {
     "name": "stdout",
     "output_type": "stream",
     "text": [
      "Word2Vec(vocab=80016, size=10, alpha=0.025)\n"
     ]
    }
   ],
   "source": [
    "print(model)"
   ]
  },
  {
   "cell_type": "code",
   "execution_count": 9,
   "metadata": {
    "collapsed": false
   },
   "outputs": [],
   "source": [
    "import tensorflow as tf"
   ]
  },
  {
   "cell_type": "code",
   "execution_count": 10,
   "metadata": {
    "collapsed": false
   },
   "outputs": [
    {
     "name": "stdout",
     "output_type": "stream",
     "text": [
      "(404290, 5)\n",
      "(404290,)\n"
     ]
    }
   ],
   "source": [
    "x=df.drop('is_duplicate',1)\n",
    "print(x.shape)\n",
    "y=df['is_duplicate']\n",
    "print(y.shape)"
   ]
  },
  {
   "cell_type": "code",
   "execution_count": 11,
   "metadata": {
    "collapsed": false
   },
   "outputs": [],
   "source": [
    "m=df.shape[0]\n",
    "train_start = 0\n",
    "train_end = int(.8*m)\n",
    "test_start = int(.8*m)\n",
    "test_end = m\n",
    "\n",
    "x_train=x[train_start:train_end]\n",
    "y_train=y[train_start:train_end]\n",
    "x_test=x[test_start:test_end]\n",
    "y_test=y[test_start:test_end]"
   ]
  },
  {
   "cell_type": "code",
   "execution_count": 13,
   "metadata": {
    "collapsed": false
   },
   "outputs": [],
   "source": [
    "for questions in range(x_train.shape[0]):\n",
    "    q=list(gensim.utils.tokenize(df.iloc[questions,3],deacc=True,lower=True))\n",
    "    \n",
    "    embedding_matrix1 = np.zeros((len(q),10)) #emdedding_dimension=10\n",
    "    for i,word in enumerate(q): # model[q[0]]\n",
    "        w=q[i]\n",
    "        embedding_vector=model[w]\n",
    "        if embedding_vector is not None:\n",
    "            embedding_matrix1[i] = embedding_vector\n",
    "    '''\n",
    "    q=list(gensim.utils.tokenize(df.iloc[questions,4],deacc=True,lower=True))\n",
    "\n",
    "    embedding_matrix2 = np.zeros((len(q),10)) #emdedding_dimension=10\n",
    "    for i,word in enumerate(q): # model[q[0]]\n",
    "        w=q[i]\n",
    "        embedding_vector=model[w]\n",
    "        if embedding_vector is not None:\n",
    "            embedding_matrix2[i] = embedding_vector\n",
    "    '''"
   ]
  }
 ],
 "metadata": {
  "anaconda-cloud": {},
  "kernelspec": {
   "display_name": "Python [default]",
   "language": "python",
   "name": "python2"
  },
  "language_info": {
   "codemirror_mode": {
    "name": "ipython",
    "version": 2
   },
   "file_extension": ".py",
   "mimetype": "text/x-python",
   "name": "python",
   "nbconvert_exporter": "python",
   "pygments_lexer": "ipython2",
   "version": "2.7.12"
  }
 },
 "nbformat": 4,
 "nbformat_minor": 1
}
